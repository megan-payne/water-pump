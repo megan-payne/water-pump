{
 "cells": [
  {
   "cell_type": "code",
   "execution_count": 1,
   "metadata": {},
   "outputs": [],
   "source": [
    "# this is to visualize the data\n",
    "import pandas as pd\n",
    "import matplotlib.pyplot as plt\n",
    "import numpy as np\n",
    "from collections import namedtuple, Counter, OrderedDict\n",
    "df = pd.read_csv(\"training_set.csv\")\n",
    "\n"
   ]
  },
  {
   "cell_type": "code",
   "execution_count": 2,
   "metadata": {},
   "outputs": [
    {
     "data": {
      "text/plain": [
       "['id',\n",
       " 'amount_tsh',\n",
       " 'date_recorded',\n",
       " 'funder',\n",
       " 'gps_height',\n",
       " 'installer',\n",
       " 'longitude',\n",
       " 'latitude',\n",
       " 'wpt_name',\n",
       " 'num_private',\n",
       " 'basin',\n",
       " 'subvillage',\n",
       " 'region',\n",
       " 'region_code',\n",
       " 'district_code',\n",
       " 'lga',\n",
       " 'ward',\n",
       " 'population',\n",
       " 'public_meeting',\n",
       " 'recorded_by',\n",
       " 'scheme_management',\n",
       " 'scheme_name',\n",
       " 'permit',\n",
       " 'construction_year',\n",
       " 'extraction_type',\n",
       " 'extraction_type_group',\n",
       " 'extraction_type_class',\n",
       " 'management',\n",
       " 'management_group',\n",
       " 'payment',\n",
       " 'payment_type',\n",
       " 'water_quality',\n",
       " 'quality_group',\n",
       " 'quantity',\n",
       " 'quantity_group',\n",
       " 'source',\n",
       " 'source_type',\n",
       " 'source_class',\n",
       " 'waterpoint_type',\n",
       " 'waterpoint_type_group']"
      ]
     },
     "execution_count": 2,
     "metadata": {},
     "output_type": "execute_result"
    }
   ],
   "source": [
    "list(df)"
   ]
  },
  {
   "cell_type": "code",
   "execution_count": 3,
   "metadata": {},
   "outputs": [],
   "source": [
    "# These predictors are identical\n",
    "\n",
    "# Quantity and Quantity_group are the same. \n",
    "#  df.quantity, df.quantity_group\n",
    "\n",
    "# Payment and payment type are the same\n",
    "#  df.payment, df.payment_type\n",
    "\n",
    "# Waterpoint type is the same as Waterpoint type group except Waterpoint type breaks\n",
    "#   down waterpoint type group into 2 subcategories \n",
    "#   (communal standpipe and communal standpipe multiple)."
   ]
  },
  {
   "cell_type": "code",
   "execution_count": 4,
   "metadata": {},
   "outputs": [
    {
     "data": {
      "image/png": "[encoded data removed]",
      "text/plain": [
       "<matplotlib.figure.Figure at 0x7f7ceddcf438>"
      ]
     },
     "metadata": {},
     "output_type": "display_data"
    }
   ],
   "source": [
    "# Continuous variables\n",
    "#   amount_tsh, longitude, latitude, population\n",
    "n, bins, patches = plt.hist(df.amount_tsh, 100, density=True, facecolor='r', alpha=0.75)\n",
    "plt.xlabel('TSH')\n",
    "plt.ylabel('Probability')\n",
    "plt.title('Amount of TSH')\n",
    "plt.show()"
   ]
  },
  {
   "cell_type": "code",
   "execution_count": 5,
   "metadata": {},
   "outputs": [
    {
     "name": "stdout",
     "output_type": "stream",
     "text": [
      "region         region_code\n",
      "Arusha         2              3024\n",
      "               24              326\n",
      "Dar es Salaam  7               805\n",
      "Dodoma         1              2201\n",
      "Iringa         11             5294\n",
      "Kagera         18             3316\n",
      "Kigoma         16             2816\n",
      "Kilimanjaro    3              4379\n",
      "Lindi          8               300\n",
      "               18                8\n",
      "               80             1238\n",
      "Manyara        21             1583\n",
      "Mara           20             1969\n",
      "Mbeya          12             4639\n",
      "Morogoro       5              4006\n",
      "Mtwara         9               390\n",
      "               90              917\n",
      "               99              423\n",
      "Mwanza         17               55\n",
      "               19             3047\n",
      "Pwani          6              1609\n",
      "               40                1\n",
      "               60             1025\n",
      "Rukwa          15             1808\n",
      "Ruvuma         10             2640\n",
      "Shinyanga      11                6\n",
      "               14               20\n",
      "               17             4956\n",
      "Singida        13             2093\n",
      "Tabora         14             1959\n",
      "Tanga          4              2513\n",
      "               5                34\n",
      "dtype: int64\n",
      "Different number of categories\n"
     ]
    }
   ],
   "source": [
    "# Categorical variables, some of these are either overlapping or identical with another. \n",
    "'''\n",
    "installer - Organization that installed the well - categorical\n",
    "wpt_name - Name of the waterpoint if there is one - categorical\n",
    "basin - Geographic water basin - categorical\n",
    "subvillage - Geographic location - categorical\n",
    "region - Geographic location - categorical\n",
    "region_code - Geographic location (coded) - categorical int\n",
    "district_code - Geographic location (coded) - categorical int \n",
    "lga - Geographic location - categorical\n",
    "ward - Geographic location - categorical\n",
    "population - Population around the well - continuous\n",
    "public_meeting - True/False - binary with NA\n",
    "scheme_management - Who operates the waterpoint - categorical\n",
    "scheme_name - Who operates the waterpoint - categorical ????\n",
    "permit - If the waterpoint is permitted - binary with NA\n",
    "construction_year - Year the waterpoint was constructed - dateyear \n",
    "extraction_type - The kind of extraction the waterpoint uses - categorical\n",
    "extraction_type_group - The kind of extraction the waterpoint uses - categorical\n",
    "extraction_type_class - The kind of extraction the waterpoint uses - categorical \n",
    "management - How the waterpoint is managed - categorical \n",
    "management_group - How the waterpoint is managed - categorical \n",
    "payment - What the water costs - categorical\n",
    "payment_type - What the water costs - categorical \n",
    "water_quality - The quality of the water - categorical \n",
    "quality_group - The quality of the water - categorical \n",
    "quantity - The quantity of water - categorical \n",
    "quantity_group - The quantity of water - categorical \n",
    "source - The source of the water - categorical \n",
    "source_type - The source of the water - categorical\n",
    "source_class - The source of the water - categorical \n",
    "waterpoint_type - The kind of waterpoint - categorical \n",
    "waterpoint_type_group - The kind of waterpoint - categorical \n",
    "'''\n",
    "\n",
    "def identicalcat(a, b):\n",
    "    print(df.groupby([a, b]).size())\n",
    "    if(len(a.unique()) == len(b.unique())):\n",
    "        print(\"Same number of categories\")\n",
    "        # Count the unique value pairs. \n",
    "    else:\n",
    "        print(\"Different number of categories\")\n",
    "\n",
    "identicalcat(df.region, df.region_code)\n"
   ]
  },
  {
   "cell_type": "code",
   "execution_count": 6,
   "metadata": {
    "scrolled": true
   },
   "outputs": [
    {
     "name": "stdout",
     "output_type": "stream",
     "text": [
      "quality_group  water_quality     \n",
      "colored        coloured                490\n",
      "fluoride       fluoride                200\n",
      "               fluoride abandoned       17\n",
      "good           soft                  50818\n",
      "milky          milky                   804\n",
      "salty          salty                  4856\n",
      "               salty abandoned         339\n",
      "unknown        unknown                1876\n",
      "dtype: int64\n",
      "Different number of categories\n"
     ]
    }
   ],
   "source": [
    "identicalcat(df.quality_group, df.water_quality)"
   ]
  },
  {
   "cell_type": "code",
   "execution_count": 7,
   "metadata": {},
   "outputs": [
    {
     "name": "stdout",
     "output_type": "stream",
     "text": [
      "quantity      quantity_group\n",
      "dry           dry                6246\n",
      "enough        enough            33186\n",
      "insufficient  insufficient      15129\n",
      "seasonal      seasonal           4050\n",
      "unknown       unknown             789\n",
      "dtype: int64\n",
      "Same number of categories\n"
     ]
    }
   ],
   "source": [
    "identicalcat(df.quantity, df.quantity_group)"
   ]
  },
  {
   "cell_type": "code",
   "execution_count": 8,
   "metadata": {},
   "outputs": [
    {
     "data": {
      "text/plain": [
       "array(['Iringa', 'Mara', 'Manyara', 'Mtwara', 'Kagera', 'Tanga',\n",
       "       'Shinyanga', 'Tabora', 'Pwani', 'Ruvuma', 'Kilimanjaro', 'Rukwa',\n",
       "       'Mwanza', 'Kigoma', 'Lindi', 'Dodoma', 'Arusha', 'Mbeya',\n",
       "       'Singida', 'Morogoro', 'Dar es Salaam'], dtype=object)"
      ]
     },
     "execution_count": 8,
     "metadata": {},
     "output_type": "execute_result"
    }
   ],
   "source": [
    "df.region.unique()"
   ]
  },
  {
   "cell_type": "code",
   "execution_count": 9,
   "metadata": {},
   "outputs": [],
   "source": [
    "def chist(catvar, alphalev=1): \n",
    "    hist = Counter(catvar)\n",
    "    hist = OrderedDict(sorted(hist.items()))\n",
    "    plt.bar(range(len(hist)), hist.values(), alpha=alphalev)\n",
    "    plt.xticks([i for i in range(len(hist))], hist.keys(), rotation=90)\n",
    "    plt.xlim([-1, len(hist)]);\n",
    "    "
   ]
  },
  {
   "cell_type": "code",
   "execution_count": 10,
   "metadata": {},
   "outputs": [
    {
     "data": {
      "image/png": "[encoded data removed]",
      "text/plain": [
       "<matplotlib.figure.Figure at 0x7f7cedb3eba8>"
      ]
     },
     "metadata": {},
     "output_type": "display_data"
    }
   ],
   "source": [
    "# Waterpoint type and waterpoint type group have a few differences.\n",
    "chist(df.waterpoint_type_group, 0.5)\n",
    "chist(df.waterpoint_type, 0.5)\n"
   ]
  },
  {
   "cell_type": "code",
   "execution_count": 11,
   "metadata": {},
   "outputs": [
    {
     "data": {
      "image/png": "[encoded data removed]",
      "text/plain": [
       "<matplotlib.figure.Figure at 0x7f7ced964e48>"
      ]
     },
     "metadata": {},
     "output_type": "display_data"
    }
   ],
   "source": [
    "# Distribution of regions\n",
    "chist(df.region)"
   ]
  },
  {
   "cell_type": "code",
   "execution_count": 12,
   "metadata": {},
   "outputs": [
    {
     "data": {
      "text/plain": [
       "region_code  region       \n",
       "1            Dodoma           2201\n",
       "2            Arusha           3024\n",
       "3            Kilimanjaro      4379\n",
       "4            Tanga            2513\n",
       "5            Morogoro         4006\n",
       "             Tanga              34\n",
       "6            Pwani            1609\n",
       "7            Dar es Salaam     805\n",
       "8            Lindi             300\n",
       "9            Mtwara            390\n",
       "10           Ruvuma           2640\n",
       "11           Iringa           5294\n",
       "             Shinyanga           6\n",
       "12           Mbeya            4639\n",
       "13           Singida          2093\n",
       "14           Shinyanga          20\n",
       "             Tabora           1959\n",
       "15           Rukwa            1808\n",
       "16           Kigoma           2816\n",
       "17           Mwanza             55\n",
       "             Shinyanga        4956\n",
       "18           Kagera           3316\n",
       "             Lindi               8\n",
       "19           Mwanza           3047\n",
       "20           Mara             1969\n",
       "21           Manyara          1583\n",
       "24           Arusha            326\n",
       "40           Pwani               1\n",
       "60           Pwani            1025\n",
       "80           Lindi            1238\n",
       "90           Mtwara            917\n",
       "99           Mtwara            423\n",
       "dtype: int64"
      ]
     },
     "execution_count": 12,
     "metadata": {},
     "output_type": "execute_result"
    }
   ],
   "source": [
    "df.groupby(['region_code', 'region']).size()"
   ]
  }
 ],
 "metadata": {
  "kernelspec": {
   "display_name": "Python 3",
   "language": "python",
   "name": "python3"
  },
  "language_info": {
   "codemirror_mode": {
    "name": "ipython",
    "version": 3
   },
   "file_extension": ".py",
   "mimetype": "text/x-python",
   "name": "python",
   "nbconvert_exporter": "python",
   "pygments_lexer": "ipython3",
   "version": "3.6.4"
  }
 },
 "nbformat": 4,
 "nbformat_minor": 2
}
